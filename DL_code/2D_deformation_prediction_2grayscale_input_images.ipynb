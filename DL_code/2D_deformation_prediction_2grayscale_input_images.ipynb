{
 "cells": [
  {
   "cell_type": "code",
   "execution_count": 9,
   "id": "95b06d23-47f0-4bb6-a80f-d84aaf332341",
   "metadata": {},
   "outputs": [],
   "source": [
    "%config IPCompleter.greedy=True #si puo' cancellare, è per avere l'autocompletion su jupyter notebook ma non pare funzionare\n",
    "import os\n",
    "import re\n",
    "import torch\n",
    "import torch.nn as nn\n",
    "import torch.optim as optim\n",
    "import torchvision.transforms as transforms\n",
    "from torch.utils.data import Dataset, DataLoader\n",
    "from PIL import Image\n",
    "import numpy as np\n",
    "import pandas as pd\n",
    "\n",
    "class ImagePairDataset(Dataset):\n",
    "    def __init__(self, root_dir, transform=None):\n",
    "        \"\"\"\n",
    "        Args:\n",
    "            root_dir (str): Root directory containing subfolders, each representing a sample.\n",
    "            transform (callable, optional): Optional transform to be applied on a sample.\n",
    "        \"\"\"\n",
    "        self.root_dir = root_dir\n",
    "        self.transform = transform\n",
    "        self.samples = {}\n",
    "\n",
    "        # Iterate over each subfolder in root_dir\n",
    "        for subfolder in os.listdir(root_dir):\n",
    "            subfolder_path = os.path.join(root_dir, subfolder)\n",
    "            match = re.search(r'\\d+', subfolder)  # Extract the first number in the subfolder name\n",
    "            if os.path.isdir(subfolder_path) and match:\n",
    "                sample_idx = int(match.group())  # Convert the extracted number to an integer\n",
    "                png_files = sorted([f for f in os.listdir(subfolder_path) if f.endswith('.png')])\n",
    "                init_file = next((f for f in png_files if \"init\" in f), None)\n",
    "                impact_file = next((f for f in png_files if \"impact\" in f), None)\n",
    "                gt_file = next((f for f in os.listdir(subfolder_path) if f.endswith('output_displacement_external.csv')), None)\n",
    "                init_coord_file = next((f for f in os.listdir(subfolder_path) if f.endswith('initial_coordinates_plate.csv')), None)\n",
    "                if init_file and impact_file and gt_file and init_coord_file:\n",
    "                    img1_path = os.path.join(subfolder_path, init_file)\n",
    "                    img2_path = os.path.join(subfolder_path, impact_file)\n",
    "                    gt_path = os.path.join(subfolder_path, gt_file)  # Ground truth displacement file path\n",
    "                    init_coord_path = os.path.join(subfolder_path, init_coord_file)  #  initial plate coord file path\n",
    "                    self.samples[sample_idx] = (img1_path, img2_path, gt_path, init_coord_path)\n",
    "        \n",
    "        # Convert dictionary to sorted list based on keys\n",
    "        self.samples = [self.samples[i] for i in sorted(self.samples.keys())]\n",
    "\n",
    "    def __len__(self):\n",
    "        return len(self.samples)\n",
    "\n",
    "    def __getitem__(self, idx):\n",
    "        img1_path, img2_path, gt_path, init_coord_path = self.samples[idx]\n",
    "        \n",
    "        # Load the images\n",
    "        img1 = Image.open(img1_path).convert('L')  # Load as single-channel grayscale\n",
    "        img2 = Image.open(img2_path).convert('L')  # Load as single-channel grayscale\n",
    "\n",
    "        # Create an RGB image with img1 in R channel and img2 in B channel\n",
    "        img1_array = np.array(img1)\n",
    "        img2_array = np.array(img2)\n",
    "        rgb_image = np.zeros((img1_array.shape[0], img1_array.shape[1], 3), dtype=np.uint8)\n",
    "        rgb_image[:, :, 0] = img1_array  # Assign to R channel\n",
    "        rgb_image[:, :, 2] = img2_array  # Assign to B channel\n",
    "\n",
    "        final_image = Image.fromarray(rgb_image)\n",
    "\n",
    "        # Load the ground truth data (displacement external)\n",
    "        init_coord_data = pd.read_csv(init_coord_path, skiprows=1, usecols=[1, 2])\n",
    "        init_coord_data = init_coord_data.to_numpy().flatten()\n",
    "        init_coord_data = torch.tensor(init_coord_data).float()\n",
    "\n",
    "        # Load the ground truth data (displacement external)\n",
    "        gt_data = pd.read_csv(gt_path, skiprows=1, usecols=[1, 2])\n",
    "        gt_data = gt_data.to_numpy().flatten()\n",
    "        gt_data = torch.tensor(gt_data).float()\n",
    "        if self.transform:\n",
    "            final_image = self.transform(final_image)\n",
    "\n",
    "        return final_image, gt_data, init_coord_data\n",
    "\n",
    "def calculate_target_normalization(dataloader):\n",
    "    \"\"\"\n",
    "    Calculate mean and standard deviation for each of the 100 target dimensions\n",
    "    across the entire training dataset\n",
    "    \"\"\"\n",
    "    # Initialize arrays to store sums and squared sums for each dimension\n",
    "    n_samples = 0\n",
    "    sum_targets = None\n",
    "    sum_squared_targets = None\n",
    "    \n",
    "    # Loop through the dataloader to collect statistics\n",
    "    for batch_idx, (inputs, targets, init_data) in enumerate(dataloader):\n",
    "        if sum_targets is None:\n",
    "            # Initialize on first batch - we expect targets to be of shape [batch_size, 100]\n",
    "            sum_targets = torch.zeros(targets.shape[1], dtype=torch.float64)\n",
    "            sum_squared_targets = torch.zeros(targets.shape[1], dtype=torch.float64)\n",
    "        \n",
    "        # Convert targets to float64 for higher precision in accumulation\n",
    "        targets = targets.to(dtype=torch.float64)\n",
    "        \n",
    "        # Update counts\n",
    "        batch_size = targets.shape[0]\n",
    "        n_samples += batch_size\n",
    "        \n",
    "        # Update sums and squared sums for each dimension\n",
    "        sum_targets += torch.sum(targets, dim=0)\n",
    "        sum_squared_targets += torch.sum(targets ** 2, dim=0)\n",
    "        \n",
    "    # Calculate mean and std for each dimension\n",
    "    mean = sum_targets / n_samples\n",
    "    # Use the formula: std = sqrt(E[X²] - E[X]²)\n",
    "    var = (sum_squared_targets / n_samples) - (mean ** 2)\n",
    "    # Handle potential numerical issues\n",
    "    var = torch.clamp(var, min=1e-8)\n",
    "    std = torch.sqrt(var)\n",
    "    \n",
    "    return {'mean': mean.numpy(), 'std': std.numpy()}\n",
    "\n",
    "# Function to apply the normalization\n",
    "def normalize_targets(targets, normalization_stats):\n",
    "    \"\"\"\n",
    "    Apply standardization to targets using precomputed statistics\n",
    "    \"\"\"\n",
    "    mean = torch.tensor(normalization_stats['mean'], dtype=targets.dtype, device=targets.device)\n",
    "    std = torch.tensor(normalization_stats['std'], dtype=targets.dtype, device=targets.device)\n",
    "    \n",
    "    return (targets - mean) / std\n",
    "\n",
    "# Function to inverse the normalization\n",
    "def denormalize_targets(normalized_targets, normalization_stats):\n",
    "    \"\"\"\n",
    "    Convert normalized targets back to original scale\n",
    "    \"\"\"\n",
    "    mean = torch.tensor(normalization_stats['mean'], dtype=normalized_targets.dtype,\n",
    "                         device=normalized_targets.device)\n",
    "    std = torch.tensor(normalization_stats['std'], dtype=normalized_targets.dtype,\n",
    "                        device=normalized_targets.device)\n",
    "    \n",
    "    return normalized_targets * std + mean\n"
   ]
  },
  {
   "cell_type": "code",
   "execution_count": 13,
   "id": "6481061d-5a98-4cc3-8471-1d00b03623b5",
   "metadata": {},
   "outputs": [
    {
     "name": "stderr",
     "output_type": "stream",
     "text": [
      "                                                                                                                        "
     ]
    },
    {
     "name": "stdout",
     "output_type": "stream",
     "text": [
      "Epoch [1/30], Train Loss: 0.4962\n"
     ]
    },
    {
     "name": "stderr",
     "output_type": "stream",
     "text": [
      "                                                                                                                        "
     ]
    },
    {
     "name": "stdout",
     "output_type": "stream",
     "text": [
      "Epoch [1/30], Test Loss: 0.2366\n",
      "New best model saved with test loss: 0.2366\n"
     ]
    },
    {
     "name": "stderr",
     "output_type": "stream",
     "text": [
      "                                                                                                                        "
     ]
    },
    {
     "name": "stdout",
     "output_type": "stream",
     "text": [
      "Epoch [2/30], Train Loss: 0.1669\n"
     ]
    },
    {
     "name": "stderr",
     "output_type": "stream",
     "text": [
      "                                                                                                                        "
     ]
    },
    {
     "name": "stdout",
     "output_type": "stream",
     "text": [
      "Epoch [2/30], Test Loss: 0.0744\n",
      "New best model saved with test loss: 0.0744\n"
     ]
    },
    {
     "name": "stderr",
     "output_type": "stream",
     "text": [
      "                                                                                                                        "
     ]
    },
    {
     "name": "stdout",
     "output_type": "stream",
     "text": [
      "Epoch [3/30], Train Loss: 0.1589\n"
     ]
    },
    {
     "name": "stderr",
     "output_type": "stream",
     "text": [
      "                                                                                                                        "
     ]
    },
    {
     "name": "stdout",
     "output_type": "stream",
     "text": [
      "Epoch [3/30], Test Loss: 0.0372\n",
      "New best model saved with test loss: 0.0372\n"
     ]
    },
    {
     "name": "stderr",
     "output_type": "stream",
     "text": [
      "                                                                                                                        "
     ]
    },
    {
     "name": "stdout",
     "output_type": "stream",
     "text": [
      "Epoch [4/30], Train Loss: 0.1052\n"
     ]
    },
    {
     "name": "stderr",
     "output_type": "stream",
     "text": [
      "                                                                                                                        "
     ]
    },
    {
     "name": "stdout",
     "output_type": "stream",
     "text": [
      "Epoch [4/30], Test Loss: 0.0661\n"
     ]
    },
    {
     "name": "stderr",
     "output_type": "stream",
     "text": [
      "                                                                                                                        "
     ]
    },
    {
     "name": "stdout",
     "output_type": "stream",
     "text": [
      "Epoch [5/30], Train Loss: 0.0754\n"
     ]
    },
    {
     "name": "stderr",
     "output_type": "stream",
     "text": [
      "                                                                                                                        "
     ]
    },
    {
     "name": "stdout",
     "output_type": "stream",
     "text": [
      "Epoch [5/30], Test Loss: 0.0223\n",
      "New best model saved with test loss: 0.0223\n"
     ]
    },
    {
     "name": "stderr",
     "output_type": "stream",
     "text": [
      "                                                                                                                        "
     ]
    },
    {
     "name": "stdout",
     "output_type": "stream",
     "text": [
      "Epoch [6/30], Train Loss: 0.0811\n"
     ]
    },
    {
     "name": "stderr",
     "output_type": "stream",
     "text": [
      "                                                                                                                        "
     ]
    },
    {
     "name": "stdout",
     "output_type": "stream",
     "text": [
      "Epoch [6/30], Test Loss: 0.0612\n"
     ]
    },
    {
     "name": "stderr",
     "output_type": "stream",
     "text": [
      "                                                                                                                        "
     ]
    },
    {
     "name": "stdout",
     "output_type": "stream",
     "text": [
      "Epoch [7/30], Train Loss: 0.0738\n"
     ]
    },
    {
     "name": "stderr",
     "output_type": "stream",
     "text": [
      "                                                                                                                        "
     ]
    },
    {
     "name": "stdout",
     "output_type": "stream",
     "text": [
      "Epoch [7/30], Test Loss: 0.0278\n"
     ]
    },
    {
     "name": "stderr",
     "output_type": "stream",
     "text": [
      "                                                                                                                        "
     ]
    },
    {
     "name": "stdout",
     "output_type": "stream",
     "text": [
      "Epoch [8/30], Train Loss: 0.0673\n"
     ]
    },
    {
     "name": "stderr",
     "output_type": "stream",
     "text": [
      "                                                                                                                        "
     ]
    },
    {
     "name": "stdout",
     "output_type": "stream",
     "text": [
      "Epoch [8/30], Test Loss: 0.0271\n"
     ]
    },
    {
     "name": "stderr",
     "output_type": "stream",
     "text": [
      "                                                                                                                        "
     ]
    },
    {
     "name": "stdout",
     "output_type": "stream",
     "text": [
      "Epoch [9/30], Train Loss: 0.0474\n"
     ]
    },
    {
     "name": "stderr",
     "output_type": "stream",
     "text": [
      "                                                                                                                        "
     ]
    },
    {
     "name": "stdout",
     "output_type": "stream",
     "text": [
      "Epoch [9/30], Test Loss: 0.0472\n"
     ]
    },
    {
     "name": "stderr",
     "output_type": "stream",
     "text": [
      "                                                                                                                        "
     ]
    },
    {
     "name": "stdout",
     "output_type": "stream",
     "text": [
      "Epoch [10/30], Train Loss: 0.0425\n"
     ]
    },
    {
     "name": "stderr",
     "output_type": "stream",
     "text": [
      "                                                                                                                        "
     ]
    },
    {
     "name": "stdout",
     "output_type": "stream",
     "text": [
      "Epoch [10/30], Test Loss: 0.1872\n"
     ]
    },
    {
     "name": "stderr",
     "output_type": "stream",
     "text": [
      "                                                                                                                        "
     ]
    },
    {
     "name": "stdout",
     "output_type": "stream",
     "text": [
      "Epoch [11/30], Train Loss: 0.0438\n"
     ]
    },
    {
     "name": "stderr",
     "output_type": "stream",
     "text": [
      "                                                                                                                        "
     ]
    },
    {
     "name": "stdout",
     "output_type": "stream",
     "text": [
      "Epoch [11/30], Test Loss: 0.0765\n"
     ]
    },
    {
     "name": "stderr",
     "output_type": "stream",
     "text": [
      "                                                                                                                        "
     ]
    },
    {
     "name": "stdout",
     "output_type": "stream",
     "text": [
      "Epoch [12/30], Train Loss: 0.0368\n"
     ]
    },
    {
     "name": "stderr",
     "output_type": "stream",
     "text": [
      "                                                                                                                        "
     ]
    },
    {
     "name": "stdout",
     "output_type": "stream",
     "text": [
      "Epoch [12/30], Test Loss: 0.0777\n"
     ]
    },
    {
     "name": "stderr",
     "output_type": "stream",
     "text": [
      "                                                                                                                        "
     ]
    },
    {
     "name": "stdout",
     "output_type": "stream",
     "text": [
      "Epoch [13/30], Train Loss: 0.0280\n"
     ]
    },
    {
     "name": "stderr",
     "output_type": "stream",
     "text": [
      "                                                                                                                        "
     ]
    },
    {
     "name": "stdout",
     "output_type": "stream",
     "text": [
      "Epoch [13/30], Test Loss: 0.1743\n"
     ]
    },
    {
     "name": "stderr",
     "output_type": "stream",
     "text": [
      "                                                                                                                        "
     ]
    },
    {
     "name": "stdout",
     "output_type": "stream",
     "text": [
      "Epoch [14/30], Train Loss: 0.0224\n"
     ]
    },
    {
     "name": "stderr",
     "output_type": "stream",
     "text": [
      "                                                                                                                        "
     ]
    },
    {
     "name": "stdout",
     "output_type": "stream",
     "text": [
      "Epoch [14/30], Test Loss: 0.0527\n"
     ]
    },
    {
     "name": "stderr",
     "output_type": "stream",
     "text": [
      "                                                                                                                        "
     ]
    },
    {
     "name": "stdout",
     "output_type": "stream",
     "text": [
      "Epoch [15/30], Train Loss: 0.0200\n"
     ]
    },
    {
     "name": "stderr",
     "output_type": "stream",
     "text": [
      "                                                                                                                        "
     ]
    },
    {
     "name": "stdout",
     "output_type": "stream",
     "text": [
      "Epoch [15/30], Test Loss: 0.0117\n",
      "New best model saved with test loss: 0.0117\n"
     ]
    },
    {
     "name": "stderr",
     "output_type": "stream",
     "text": [
      "                                                                                                                        "
     ]
    },
    {
     "name": "stdout",
     "output_type": "stream",
     "text": [
      "Epoch [16/30], Train Loss: 0.0181\n"
     ]
    },
    {
     "name": "stderr",
     "output_type": "stream",
     "text": [
      "                                                                                                                        "
     ]
    },
    {
     "name": "stdout",
     "output_type": "stream",
     "text": [
      "Epoch [16/30], Test Loss: 0.0110\n",
      "New best model saved with test loss: 0.0110\n"
     ]
    },
    {
     "name": "stderr",
     "output_type": "stream",
     "text": [
      "                                                                                                                        "
     ]
    },
    {
     "name": "stdout",
     "output_type": "stream",
     "text": [
      "Epoch [17/30], Train Loss: 0.0180\n"
     ]
    },
    {
     "name": "stderr",
     "output_type": "stream",
     "text": [
      "                                                                                                                        "
     ]
    },
    {
     "name": "stdout",
     "output_type": "stream",
     "text": [
      "Epoch [17/30], Test Loss: 0.0134\n"
     ]
    },
    {
     "name": "stderr",
     "output_type": "stream",
     "text": [
      "                                                                                                                        "
     ]
    },
    {
     "name": "stdout",
     "output_type": "stream",
     "text": [
      "Epoch [18/30], Train Loss: 0.0167\n"
     ]
    },
    {
     "name": "stderr",
     "output_type": "stream",
     "text": [
      "                                                                                                                        "
     ]
    },
    {
     "name": "stdout",
     "output_type": "stream",
     "text": [
      "Epoch [18/30], Test Loss: 0.0111\n"
     ]
    },
    {
     "name": "stderr",
     "output_type": "stream",
     "text": [
      "                                                                                                                        "
     ]
    },
    {
     "name": "stdout",
     "output_type": "stream",
     "text": [
      "Epoch [19/30], Train Loss: 0.0127\n"
     ]
    },
    {
     "name": "stderr",
     "output_type": "stream",
     "text": [
      "                                                                                                                        "
     ]
    },
    {
     "name": "stdout",
     "output_type": "stream",
     "text": [
      "Epoch [19/30], Test Loss: 0.0353\n"
     ]
    },
    {
     "name": "stderr",
     "output_type": "stream",
     "text": [
      "                                                                                                                        "
     ]
    },
    {
     "name": "stdout",
     "output_type": "stream",
     "text": [
      "Epoch [20/30], Train Loss: 0.0186\n"
     ]
    },
    {
     "name": "stderr",
     "output_type": "stream",
     "text": [
      "                                                                                                                        "
     ]
    },
    {
     "name": "stdout",
     "output_type": "stream",
     "text": [
      "Epoch [20/30], Test Loss: 0.0616\n"
     ]
    },
    {
     "name": "stderr",
     "output_type": "stream",
     "text": [
      "                                                                                                                        "
     ]
    },
    {
     "name": "stdout",
     "output_type": "stream",
     "text": [
      "Epoch [21/30], Train Loss: 0.0183\n"
     ]
    },
    {
     "name": "stderr",
     "output_type": "stream",
     "text": [
      "                                                                                                                        "
     ]
    },
    {
     "name": "stdout",
     "output_type": "stream",
     "text": [
      "Epoch [21/30], Test Loss: 0.0559\n"
     ]
    },
    {
     "name": "stderr",
     "output_type": "stream",
     "text": [
      "                                                                                                                        "
     ]
    },
    {
     "name": "stdout",
     "output_type": "stream",
     "text": [
      "Epoch [22/30], Train Loss: 0.0139\n"
     ]
    },
    {
     "name": "stderr",
     "output_type": "stream",
     "text": [
      "                                                                                                                        "
     ]
    },
    {
     "name": "stdout",
     "output_type": "stream",
     "text": [
      "Epoch [22/30], Test Loss: 0.0100\n",
      "New best model saved with test loss: 0.0100\n"
     ]
    },
    {
     "name": "stderr",
     "output_type": "stream",
     "text": [
      "                                                                                                                        "
     ]
    },
    {
     "name": "stdout",
     "output_type": "stream",
     "text": [
      "Epoch [23/30], Train Loss: 0.0133\n"
     ]
    },
    {
     "name": "stderr",
     "output_type": "stream",
     "text": [
      "                                                                                                                        "
     ]
    },
    {
     "name": "stdout",
     "output_type": "stream",
     "text": [
      "Epoch [23/30], Test Loss: 0.0080\n",
      "New best model saved with test loss: 0.0080\n"
     ]
    },
    {
     "name": "stderr",
     "output_type": "stream",
     "text": [
      "                                                                                                                        "
     ]
    },
    {
     "name": "stdout",
     "output_type": "stream",
     "text": [
      "Epoch [24/30], Train Loss: 0.0119\n"
     ]
    },
    {
     "name": "stderr",
     "output_type": "stream",
     "text": [
      "                                                                                                                        "
     ]
    },
    {
     "name": "stdout",
     "output_type": "stream",
     "text": [
      "Epoch [24/30], Test Loss: 0.0127\n"
     ]
    },
    {
     "name": "stderr",
     "output_type": "stream",
     "text": [
      "                                                                                                                        "
     ]
    },
    {
     "name": "stdout",
     "output_type": "stream",
     "text": [
      "Epoch [25/30], Train Loss: 0.0118\n"
     ]
    },
    {
     "name": "stderr",
     "output_type": "stream",
     "text": [
      "                                                                                                                        "
     ]
    },
    {
     "name": "stdout",
     "output_type": "stream",
     "text": [
      "Epoch [25/30], Test Loss: 0.0377\n"
     ]
    },
    {
     "name": "stderr",
     "output_type": "stream",
     "text": [
      "                                                                                                                        "
     ]
    },
    {
     "name": "stdout",
     "output_type": "stream",
     "text": [
      "Epoch [26/30], Train Loss: 0.0255\n"
     ]
    },
    {
     "name": "stderr",
     "output_type": "stream",
     "text": [
      "                                                                                                                        "
     ]
    },
    {
     "name": "stdout",
     "output_type": "stream",
     "text": [
      "Epoch [26/30], Test Loss: 0.0338\n"
     ]
    },
    {
     "name": "stderr",
     "output_type": "stream",
     "text": [
      "                                                                                                                        "
     ]
    },
    {
     "name": "stdout",
     "output_type": "stream",
     "text": [
      "Epoch [27/30], Train Loss: 0.0131\n"
     ]
    },
    {
     "name": "stderr",
     "output_type": "stream",
     "text": [
      "                                                                                                                        "
     ]
    },
    {
     "name": "stdout",
     "output_type": "stream",
     "text": [
      "Epoch [27/30], Test Loss: 0.0129\n"
     ]
    },
    {
     "name": "stderr",
     "output_type": "stream",
     "text": [
      "                                                                                                                        "
     ]
    },
    {
     "name": "stdout",
     "output_type": "stream",
     "text": [
      "Epoch [28/30], Train Loss: 0.0119\n"
     ]
    },
    {
     "name": "stderr",
     "output_type": "stream",
     "text": [
      "                                                                                                                        "
     ]
    },
    {
     "name": "stdout",
     "output_type": "stream",
     "text": [
      "Epoch [28/30], Test Loss: 0.0076\n",
      "New best model saved with test loss: 0.0076\n"
     ]
    },
    {
     "name": "stderr",
     "output_type": "stream",
     "text": [
      "                                                                                                                        "
     ]
    },
    {
     "name": "stdout",
     "output_type": "stream",
     "text": [
      "Epoch [29/30], Train Loss: 0.0081\n"
     ]
    },
    {
     "name": "stderr",
     "output_type": "stream",
     "text": [
      "                                                                                                                        "
     ]
    },
    {
     "name": "stdout",
     "output_type": "stream",
     "text": [
      "Epoch [29/30], Test Loss: 0.0087\n"
     ]
    },
    {
     "name": "stderr",
     "output_type": "stream",
     "text": [
      "                                                                                                                        "
     ]
    },
    {
     "name": "stdout",
     "output_type": "stream",
     "text": [
      "Epoch [30/30], Train Loss: 0.0073\n"
     ]
    },
    {
     "name": "stderr",
     "output_type": "stream",
     "text": [
      "                                                                                                                        "
     ]
    },
    {
     "name": "stdout",
     "output_type": "stream",
     "text": [
      "Epoch [30/30], Test Loss: 0.0065\n",
      "New best model saved with test loss: 0.0065\n",
      "Loaded best model weights with test loss: 0.0065\n",
      "Training Complete\n"
     ]
    },
    {
     "name": "stderr",
     "output_type": "stream",
     "text": []
    }
   ],
   "source": [
    "from torch.utils.data import random_split\n",
    "from torch import nn\n",
    "import torch.optim as optim\n",
    "import torchvision.models as models\n",
    "from torch.utils.data import Dataset, DataLoader, random_split\n",
    "from PIL import Image\n",
    "import numpy as np\n",
    "from tqdm import tqdm\n",
    "from torchvision.models import  ResNet18_Weights\n",
    "import copy\n",
    "# Define the ResNet-based Model\n",
    "class DisplacementNet(nn.Module):\n",
    "    def __init__(self):\n",
    "        super(DisplacementNet, self).__init__()\n",
    "        self.resnet = models.resnet18(weights=ResNet18_Weights.DEFAULT)\n",
    "        self.resnet.fc = nn.Linear(self.resnet.fc.in_features, 278)  # Replace FC layer\n",
    "    \n",
    "    def forward(self, x):\n",
    "        return self.resnet(x)\n",
    "\n",
    "class DisplacementConvNet(nn.Module):\n",
    "    def __init__(self):\n",
    "        super(DisplacementConvNet, self).__init__()\n",
    "        self.resnet = models.resnet18(weights=ResNet18_Weights.DEFAULT)\n",
    "        self.resnet.fc = nn.Linear(self.resnet.fc.in_features, 278)  # Replace FC layer\n",
    "        \n",
    "        #self.conv1 = nn.Conv1d(in_channels=2, out_channels=2, kernel_size=7, padding=3)\n",
    "        #self.relu1 = nn.ReLU()\n",
    "        self.conv2 = nn.Conv1d(in_channels=2, out_channels=2, kernel_size=3, padding=1)\n",
    "        #self.relu2 = nn.ReLU()\n",
    "    \n",
    "    def forward(self, x):\n",
    "        x = self.resnet(x)  # ResNet forward pass\n",
    "        x = x.view(-1, 2, 139)  # Reshape to (batch_size, 2, 139)\n",
    "        #x = self.relu1(self.conv1(x))  # Apply first Conv1D layer\n",
    "        x = self.conv2(x)  # Apply second Conv1D layer\n",
    "        x = x.view(-1, 278)  # Reshape back to (batch_size, 278)\n",
    "        return x\n",
    "\n",
    "# Training Setup with Best Model Saving\n",
    "def train_model(model, epochs=3, learning_rate=0.0001, train_loader=None, test_loader=None, norm_values=None):\n",
    "\n",
    "    criterion = nn.MSELoss()\n",
    "    optimizer = optim.Adam(model.parameters(), lr=learning_rate)\n",
    "    \n",
    "    # Initialize variables for tracking best model\n",
    "    best_model_weights = None\n",
    "    best_test_loss = float('inf')\n",
    "    \n",
    "    for epoch in range(epochs):\n",
    "        model.train()\n",
    "        running_loss = 0.0\n",
    "        for images, targets, init_data in tqdm(train_loader, desc=f\"Training Epoch {epoch+1}\", leave=False):\n",
    "            images = images.to(device)\n",
    "            targets = normalize_targets(targets,norm_values).to(device)              \n",
    "            optimizer.zero_grad()\n",
    "            outputs = model(images)\n",
    "            loss = criterion(outputs, targets)\n",
    "            loss.backward()\n",
    "            optimizer.step()\n",
    "\n",
    "            with torch.no_grad():\n",
    "                denorm_outputs = denormalize_targets(outputs, norm_values)\n",
    "                denorm_targets = denormalize_targets(targets,norm_values)\n",
    "                denorm_loss = criterion(denorm_outputs, denorm_targets)\n",
    "                running_loss += denorm_loss.item() * images.size(0)\n",
    "        \n",
    "        train_loss = running_loss/len(train_loader.dataset)\n",
    "        print(f\"Epoch [{epoch+1}/{epochs}], Train Loss: {train_loss:.4f}\")\n",
    "        \n",
    "        # Evaluate on test set\n",
    "        model.eval()\n",
    "        test_loss = 0.0\n",
    "        with torch.no_grad():\n",
    "            for images, targets, init_data in tqdm(test_loader, desc=f\"Validating Epoch {epoch+1}\", leave=False):\n",
    "                images = images.to(device)\n",
    "                targets = targets.to(device) \n",
    "                outputs = model(images)\n",
    "                loss = criterion(denormalize_targets(outputs,norm_values), targets)\n",
    "                test_loss += loss.item()*images.size(0)\n",
    "        \n",
    "        mean_test_loss = test_loss/len(test_loader.dataset)\n",
    "        print(f\"Epoch [{epoch+1}/{epochs}], Test Loss: {mean_test_loss:.4f}\")\n",
    "        \n",
    "        # Save the model weights if this epoch has the lowest test loss so far\n",
    "        if mean_test_loss < best_test_loss:\n",
    "            best_test_loss = mean_test_loss\n",
    "            best_model_weights = copy.deepcopy(model.state_dict())\n",
    "            print(f\"New best model saved with test loss: {best_test_loss:.4f}\")\n",
    "    \n",
    "    # Load the best model weights at the end of training\n",
    "    if best_model_weights:\n",
    "        model.load_state_dict(best_model_weights)\n",
    "        print(f\"Loaded best model weights with test loss: {best_test_loss:.4f}\")\n",
    "    else:\n",
    "        print(\"Warning: No best model weights found.\")\n",
    "    \n",
    "    print(\"Training Complete\")\n",
    "    return model\n",
    "\n",
    "\n",
    "# Example usage:\n",
    "transform = transforms.Compose([\n",
    "        transforms.Resize((224, 224)),\n",
    "        transforms.ToTensor(),\n",
    "        transforms.Normalize(\n",
    "        mean=[0.485, 0.456, 0.406],\n",
    "        std=[0.229, 0.224, 0.225]\n",
    "    )\n",
    "    ])\n",
    "device = \"cuda\" if torch.cuda.is_available() else \"cpu\"\n",
    "model = DisplacementNet().to(device)\n",
    "\n",
    "dataset = ImagePairDataset(\"/mnt/c/Users/engha/Downloads/deformazione-2d-parametrica/deformazione-2d-parametrica\", transform=transform)\n",
    "test_split = 0.2    \n",
    "batch_size = 16\n",
    "    # Split dataset into train and test sets\n",
    "test_size = int(test_split * len(dataset))\n",
    "train_size = len(dataset) - test_size\n",
    "train_dataset, test_dataset = random_split(dataset, [train_size, test_size])\n",
    "    \n",
    "train_loader = DataLoader(train_dataset, batch_size=batch_size, shuffle=True)\n",
    "test_loader = DataLoader(test_dataset, batch_size=batch_size, shuffle=False)\n",
    "norm_values=calculate_target_normalization(train_loader)\n",
    "trained_model = train_model(model=model, epochs=30,learning_rate=0.0001,train_loader=train_loader,test_loader=test_loader,norm_values=norm_values)"
   ]
  },
  {
   "cell_type": "code",
   "execution_count": 70,
   "id": "59ccdd39-f7ac-4071-9d14-d0b0d732797a",
   "metadata": {},
   "outputs": [
    {
     "data": {
      "image/png": "[encoded data removed]",
      "text/plain": [
       "<Figure size 800x600 with 1 Axes>"
      ]
     },
     "metadata": {},
     "output_type": "display_data"
    }
   ],
   "source": [
    "import matplotlib.pyplot as plt\n",
    "import numpy as np\n",
    "\n",
    "def plot_points_sequence(init_coord_data, gt_data, predicted_displacements):\n",
    "    \"\"\"\n",
    "    Plots the positions of points given the initial coordinates, ground truth displacements,\n",
    "    and predicted displacements. Also, plots lines connecting successive points for both sequences.\n",
    "\n",
    "    Args:\n",
    "        init_coord_data (numpy.ndarray): Initial positions of the points of shape (N, 2).\n",
    "        gt_data (numpy.ndarray): Ground truth displacement data of shape (N, 2).\n",
    "        predicted_displacements (numpy.ndarray): Predicted displacement data of shape (N, 2).\n",
    "    \"\"\"\n",
    "    # Calculate the final ground truth points\n",
    "    gt_points = init_coord_data + gt_data\n",
    "    \n",
    "    # Calculate the predicted points\n",
    "    predicted_points = init_coord_data + predicted_displacements\n",
    "    \n",
    "    # Plotting\n",
    "    plt.figure(figsize=(8, 6))\n",
    "    \n",
    "    # Plot ground truth points (smaller 'x' markers)\n",
    "    plt.scatter(gt_points[:, 0], gt_points[:, 1], color='green', label='Ground Truth Points', marker='x', s=10)\n",
    "    \n",
    "    # Plot predicted points (smaller 'o' markers)\n",
    "    plt.scatter(predicted_points[:, 0], predicted_points[:, 1], color='red', label='Predicted Points', marker='o', s=10)\n",
    "    \n",
    "    # Connect the ground truth points to their successors\n",
    "    for i in range(len(gt_points) - 1):\n",
    "        plt.plot([gt_points[i, 0], gt_points[i + 1, 0]], [gt_points[i, 1], gt_points[i + 1, 1]], 'g-', alpha=0.5)\n",
    "    \n",
    "    # Connect the predicted points to their successors\n",
    "    for i in range(len(predicted_points) - 1):\n",
    "        plt.plot([predicted_points[i, 0], predicted_points[i + 1, 0]], [predicted_points[i, 1], predicted_points[i + 1, 1]], 'r-', alpha=0.5)\n",
    "    \n",
    "    # Labels and title\n",
    "    plt.xlabel('X Coordinate')\n",
    "    plt.ylabel('Y Coordinate')\n",
    "    plt.title('Point Displacements: Ground Truth vs. Predicted')\n",
    "    \n",
    "    # Add legend\n",
    "    plt.legend()\n",
    "    \n",
    "    # Show plot\n",
    "    plt.grid(True)\n",
    "    plt.show()\n",
    "\n",
    "# Example usage for a given sample index\n",
    "# Assuming `init_coord_data`, `gt_data`, and `predicted_displacements` are NumPy arrays of shape (N, 2)\n",
    "init_coord_data = np.random.rand(140, 2)  # Initial coordinates of 140 poin\n",
    "\n",
    "\n",
    "# Example usage for a given sample index\n",
    "# Assuming `init_coord_data`, `gt_data`, and `predicted_displacements` are NumPy arrays of shape (N, 2)\n",
    "# For example:\n",
    "images, targets, init_data = test_loader.dataset[70]\n",
    "images = images.to(device)\n",
    "images = images[None,:, :, :]\n",
    "init_data = init_data.numpy().reshape(-1,2)\n",
    "targets = targets.numpy().reshape(-1,2)\n",
    "predicted_displacements = trained_model(images)\n",
    "predicted_displacements = predicted_displacements.cpu().detach().numpy()\n",
    "predicted_displacements = predicted_displacements.reshape(-1,2)\n",
    "#import pdb; pdb.set_trace()\n",
    "# Call the function to plot the points for a sample\n",
    "plot_points_sequence(init_data, targets, predicted_displacements)\n",
    "\n"
   ]
  },
  {
   "cell_type": "code",
   "execution_count": 1,
   "id": "788c2669-c25d-4af2-8dea-ec18cebdccb1",
   "metadata": {},
   "outputs": [
    {
     "ename": "NameError",
     "evalue": "name 'images' is not defined",
     "output_type": "error",
     "traceback": [
      "\u001b[0;31m---------------------------------------------------------------------------\u001b[0m",
      "\u001b[0;31mNameError\u001b[0m                                 Traceback (most recent call last)",
      "Cell \u001b[0;32mIn[1], line 26\u001b[0m\n\u001b[1;32m     23\u001b[0m     plt\u001b[38;5;241m.\u001b[39maxis(\u001b[38;5;124m'\u001b[39m\u001b[38;5;124moff\u001b[39m\u001b[38;5;124m'\u001b[39m)  \u001b[38;5;66;03m# Hide axes\u001b[39;00m\n\u001b[1;32m     24\u001b[0m     plt\u001b[38;5;241m.\u001b[39mshow()\n\u001b[0;32m---> 26\u001b[0m plot_image_tensor(\u001b[43mimages\u001b[49m[:,:,:,:]\u001b[38;5;241m.\u001b[39mcpu())\n",
      "\u001b[0;31mNameError\u001b[0m: name 'images' is not defined"
     ]
    }
   ],
   "source": [
    "def plot_image_tensor(image_tensor):\n",
    "    \"\"\"\n",
    "    Takes a PyTorch tensor representing image data and plots the image.\n",
    "\n",
    "    Args:\n",
    "        image_tensor (torch.Tensor): A tensor representing image data with shape \n",
    "                                     (batch_size, channels, height, width).\n",
    "    \"\"\"\n",
    "    # Check if the tensor is a single image or a batch\n",
    "    if image_tensor.ndimension() == 4:\n",
    "        # If batch size is greater than 1, let's plot the first image\n",
    "        image_tensor = image_tensor[0]  # Take the first image in the batch\n",
    "    \n",
    "    # Convert the tensor to a NumPy array and move channels to last dimension (for plotting)\n",
    "    image_array = image_tensor.numpy().transpose((1, 2, 0))  # Convert from (C, H, W) to (H, W, C)\n",
    "    #image_array[:, :, 1] = 1\n",
    "    # If the image is grayscale (single channel), it will have only one channel\n",
    "    if image_array.shape[2] == 1:\n",
    "        image_array = image_array[:, :, 0]  # Convert to 2D for grayscale images\n",
    "    \n",
    "    # Plot the image\n",
    "    plt.imshow(image_array, cmap='gray' if image_array.ndim == 2 else None)\n",
    "    plt.axis('off')  # Hide axes\n",
    "    plt.show()\n",
    "\n",
    "plot_image_tensor(images[:,:,:,:].cpu())"
   ]
  },
  {
   "cell_type": "code",
   "execution_count": null,
   "id": "169f373f-1019-41a2-b044-6127d0d91f09",
   "metadata": {},
   "outputs": [],
   "source": [
    "images.shape"
   ]
  },
  {
   "cell_type": "code",
   "execution_count": null,
   "id": "ca485dca-55f0-446e-aa0e-e67e73e09f9e",
   "metadata": {},
   "outputs": [],
   "source": []
  },
  {
   "cell_type": "code",
   "execution_count": null,
   "id": "c13ee35a-9256-4ad3-b3cf-a3b2b7c46af6",
   "metadata": {},
   "outputs": [],
   "source": []
  }
 ],
 "metadata": {
  "kernelspec": {
   "display_name": "Python 3 (ipykernel)",
   "language": "python",
   "name": "python3"
  },
  "language_info": {
   "codemirror_mode": {
    "name": "ipython",
    "version": 3
   },
   "file_extension": ".py",
   "mimetype": "text/x-python",
   "name": "python",
   "nbconvert_exporter": "python",
   "pygments_lexer": "ipython3",
   "version": "3.10.12"
  }
 },
 "nbformat": 4,
 "nbformat_minor": 5
}
